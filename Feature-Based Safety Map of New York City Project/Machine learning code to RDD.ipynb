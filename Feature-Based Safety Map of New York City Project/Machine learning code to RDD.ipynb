{
 "cells": [
  {
   "cell_type": "code",
   "execution_count": 1,
   "metadata": {},
   "outputs": [],
   "source": [
    "#%load_ext nb_black\n",
    "from pyspark.sql import SparkSession\n",
    "import pyspark.sql.functions as F\n",
    "import pyspark.sql.types as T"
   ]
  },
  {
   "cell_type": "code",
   "execution_count": 2,
   "metadata": {},
   "outputs": [],
   "source": [
    "spark=SparkSession.builder.getOrCreate()"
   ]
  },
  {
   "cell_type": "code",
   "execution_count": 3,
   "metadata": {},
   "outputs": [],
   "source": [
    "# Build the SparkSession\n",
    "spark = SparkSession.builder \\\n",
    "   .master(\"local\") \\\n",
    "   .appName(\"Linear Regression Model\") \\\n",
    "   .config(\"spark.executor.memory\", \"1gb\") \\\n",
    "   .getOrCreate()\n",
    "   \n",
    "sc = spark.sparkContext"
   ]
  },
  {
   "cell_type": "code",
   "execution_count": 4,
   "metadata": {},
   "outputs": [
    {
     "data": {
      "text/html": [
       "\n",
       "        <div>\n",
       "            <p><b>SparkContext</b></p>\n",
       "\n",
       "            <p><a href=\"http://DESKTOP-MJJSDE6:4041\">Spark UI</a></p>\n",
       "\n",
       "            <dl>\n",
       "              <dt>Version</dt>\n",
       "                <dd><code>v3.2.1</code></dd>\n",
       "              <dt>Master</dt>\n",
       "                <dd><code>local[*]</code></dd>\n",
       "              <dt>AppName</dt>\n",
       "                <dd><code>pyspark-shell</code></dd>\n",
       "            </dl>\n",
       "        </div>\n",
       "        "
      ],
      "text/plain": [
       "<SparkContext master=local[*] appName=pyspark-shell>"
      ]
     },
     "execution_count": 4,
     "metadata": {},
     "output_type": "execute_result"
    }
   ],
   "source": [
    "sc"
   ]
  },
  {
   "cell_type": "code",
   "execution_count": 7,
   "metadata": {},
   "outputs": [],
   "source": [
    "rdd = spark.read.csv(\"crime_data_filtered.csv\",inferSchema=True, header=True)"
   ]
  },
  {
   "cell_type": "code",
   "execution_count": 8,
   "metadata": {},
   "outputs": [
    {
     "name": "stdout",
     "output_type": "stream",
     "text": [
      "root\n",
      " |-- _c0: integer (nullable = true)\n",
      " |-- CMPLNT_NUM: integer (nullable = true)\n",
      " |-- ADDR_PCT_CD: double (nullable = true)\n",
      " |-- BORO_NM: string (nullable = true)\n",
      " |-- CMPLNT_FR_DT: string (nullable = true)\n",
      " |-- RPT_DT: string (nullable = true)\n",
      " |-- CMPLNT_FR_TM: string (nullable = true)\n",
      " |-- CRM_ATPT_CPTD_CD: string (nullable = true)\n",
      " |-- KY_CD: integer (nullable = true)\n",
      " |-- LAW_CAT_CD: string (nullable = true)\n",
      " |-- SUSP_AGE_GROUP: string (nullable = true)\n",
      " |-- SUSP_RACE: string (nullable = true)\n",
      " |-- SUSP_SEX: string (nullable = true)\n",
      " |-- VIC_AGE_GROUP: string (nullable = true)\n",
      " |-- VIC_RACE: string (nullable = true)\n",
      " |-- VIC_SEX: string (nullable = true)\n",
      " |-- Latitude: double (nullable = true)\n",
      " |-- Longitude: double (nullable = true)\n",
      "\n"
     ]
    }
   ],
   "source": [
    "rdd.printSchema()"
   ]
  },
  {
   "cell_type": "code",
   "execution_count": 9,
   "metadata": {},
   "outputs": [
    {
     "data": {
      "text/plain": [
       "[Row(_c0=0, CMPLNT_NUM=394506329, ADDR_PCT_CD=32.0, BORO_NM='MANHATTAN', CMPLNT_FR_DT='12/31/2019', RPT_DT='2019-12-31', CMPLNT_FR_TM='17:30:00', CRM_ATPT_CPTD_CD='COMPLETED', KY_CD=118, LAW_CAT_CD='FELONY', SUSP_AGE_GROUP=None, SUSP_RACE=None, SUSP_SEX=None, VIC_AGE_GROUP='UNKNOWN', VIC_RACE='UNKNOWN', VIC_SEX='E', Latitude=40.82092679700002, Longitude=-73.94332421899996),\n",
       " Row(_c0=1, CMPLNT_NUM=968873685, ADDR_PCT_CD=47.0, BORO_NM='BRONX', CMPLNT_FR_DT='12/29/2019', RPT_DT='2019-12-29', CMPLNT_FR_TM='16:31:00', CRM_ATPT_CPTD_CD='COMPLETED', KY_CD=113, LAW_CAT_CD='FELONY', SUSP_AGE_GROUP=None, SUSP_RACE=None, SUSP_SEX=None, VIC_AGE_GROUP='UNKNOWN', VIC_RACE='UNKNOWN', VIC_SEX='E', Latitude=40.88570140600008, Longitude=-73.86164032499995)]"
      ]
     },
     "execution_count": 9,
     "metadata": {},
     "output_type": "execute_result"
    }
   ],
   "source": [
    "rdd.take(2)"
   ]
  },
  {
   "cell_type": "code",
   "execution_count": 10,
   "metadata": {},
   "outputs": [
    {
     "name": "stdout",
     "output_type": "stream",
     "text": [
      "+---+----------+-----------+---------+------------+----------+------------+----------------+-----+----------+--------------+---------+--------+-------------+--------+-------+-----------------+------------------+\n",
      "|_c0|CMPLNT_NUM|ADDR_PCT_CD|  BORO_NM|CMPLNT_FR_DT|    RPT_DT|CMPLNT_FR_TM|CRM_ATPT_CPTD_CD|KY_CD|LAW_CAT_CD|SUSP_AGE_GROUP|SUSP_RACE|SUSP_SEX|VIC_AGE_GROUP|VIC_RACE|VIC_SEX|         Latitude|         Longitude|\n",
      "+---+----------+-----------+---------+------------+----------+------------+----------------+-----+----------+--------------+---------+--------+-------------+--------+-------+-----------------+------------------+\n",
      "|  0| 394506329|       32.0|MANHATTAN|  12/31/2019|2019-12-31|    17:30:00|       COMPLETED|  118|    FELONY|          null|     null|    null|      UNKNOWN| UNKNOWN|      E|40.82092679700002|-73.94332421899996|\n",
      "+---+----------+-----------+---------+------------+----------+------------+----------------+-----+----------+--------------+---------+--------+-------------+--------+-------+-----------------+------------------+\n",
      "only showing top 1 row\n",
      "\n"
     ]
    }
   ],
   "source": [
    "rdd.show(1)"
   ]
  },
  {
   "cell_type": "code",
   "execution_count": 11,
   "metadata": {},
   "outputs": [
    {
     "name": "stdout",
     "output_type": "stream",
     "text": [
      "+-------------+-------+\n",
      "|vic_age_group|vic_sex|\n",
      "+-------------+-------+\n",
      "|      UNKNOWN|      E|\n",
      "|      UNKNOWN|      E|\n",
      "|        25-44|      F|\n",
      "|      UNKNOWN|      E|\n",
      "|      UNKNOWN|      M|\n",
      "+-------------+-------+\n",
      "only showing top 5 rows\n",
      "\n"
     ]
    }
   ],
   "source": [
    "rdd.select(\"vic_age_group\",\"vic_sex\").show(5)"
   ]
  },
  {
   "cell_type": "code",
   "execution_count": 27,
   "metadata": {},
   "outputs": [],
   "source": [
    "df=rdd"
   ]
  },
  {
   "cell_type": "code",
   "execution_count": 28,
   "metadata": {},
   "outputs": [
    {
     "data": {
      "text/plain": [
       "['_c0',\n",
       " 'CMPLNT_NUM',\n",
       " 'ADDR_PCT_CD',\n",
       " 'BORO_NM',\n",
       " 'CMPLNT_FR_DT',\n",
       " 'RPT_DT',\n",
       " 'CMPLNT_FR_TM',\n",
       " 'CRM_ATPT_CPTD_CD',\n",
       " 'KY_CD',\n",
       " 'LAW_CAT_CD',\n",
       " 'SUSP_AGE_GROUP',\n",
       " 'SUSP_RACE',\n",
       " 'SUSP_SEX',\n",
       " 'VIC_AGE_GROUP',\n",
       " 'VIC_RACE',\n",
       " 'VIC_SEX',\n",
       " 'Latitude',\n",
       " 'Longitude']"
      ]
     },
     "execution_count": 28,
     "metadata": {},
     "output_type": "execute_result"
    }
   ],
   "source": [
    "df.columns"
   ]
  },
  {
   "cell_type": "code",
   "execution_count": 29,
   "metadata": {},
   "outputs": [
    {
     "name": "stdout",
     "output_type": "stream",
     "text": [
      "+---+----------+-----------+---------+------------+----------+------------+----------------+-----+-----------+--------------+--------------+--------+-------------+--------------+-------+------------------+------------------+\n",
      "|_c0|CMPLNT_NUM|ADDR_PCT_CD|  BORO_NM|CMPLNT_FR_DT|    RPT_DT|CMPLNT_FR_TM|CRM_ATPT_CPTD_CD|KY_CD| LAW_CAT_CD|SUSP_AGE_GROUP|     SUSP_RACE|SUSP_SEX|VIC_AGE_GROUP|      VIC_RACE|VIC_SEX|          Latitude|         Longitude|\n",
      "+---+----------+-----------+---------+------------+----------+------------+----------------+-----+-----------+--------------+--------------+--------+-------------+--------------+-------+------------------+------------------+\n",
      "|  0| 394506329|       32.0|MANHATTAN|  12/31/2019|2019-12-31|    17:30:00|       COMPLETED|  118|     FELONY|          null|          null|    null|      UNKNOWN|       UNKNOWN|      E| 40.82092679700002|-73.94332421899996|\n",
      "|  1| 968873685|       47.0|    BRONX|  12/29/2019|2019-12-29|    16:31:00|       COMPLETED|  113|     FELONY|          null|          null|    null|      UNKNOWN|       UNKNOWN|      E| 40.88570140600008|-73.86164032499995|\n",
      "|  2| 509837549|      109.0|   QUEENS|  12/15/2019|2019-12-29|    18:45:00|       COMPLETED|  578|  VIOLATION|         25-44|       UNKNOWN|       M|        25-44|WHITE HISPANIC|      F| 40.74228115600005|      -73.81982408|\n",
      "|  3| 352454313|       47.0|    BRONX|  12/28/2019|2019-12-28|    01:00:00|       COMPLETED|  126|     FELONY|         18-24|         BLACK|       M|      UNKNOWN|       UNKNOWN|      E| 40.87531145100007|-73.84754521099995|\n",
      "|  5| 293718737|        9.0|MANHATTAN|  12/27/2019|2019-12-27|    22:00:00|       ATTEMPTED|  107|     FELONY|          null|          null|    null|      UNKNOWN|       UNKNOWN|      M| 40.72075882100006|-73.98046642299995|\n",
      "|  6| 552685226|       79.0| BROOKLYN|  12/27/2019|2019-12-27|    20:10:00|       COMPLETED|  117|     FELONY|          null|          null|    null|      UNKNOWN|       UNKNOWN|      E|40.695958362000056|-73.93763162199998|\n",
      "|  7| 134037758|      101.0|   QUEENS|  12/26/2019|2019-12-27|    20:00:00|       COMPLETED|  341|MISDEMEANOR|          null|          null|    null|        25-44|WHITE HISPANIC|      F| 40.61157006600007|-73.74736517199995|\n",
      "|  8| 855385879|       44.0|    BRONX|  12/26/2019|2019-12-26|    19:57:00|       COMPLETED|  361|MISDEMEANOR|         18-24|         BLACK|       F|        18-24|         BLACK|      F| 40.84023413800003|-73.91768411399994|\n",
      "|  9| 241602326|       20.0|MANHATTAN|  12/25/2019|2019-12-26|    23:00:00|       COMPLETED|  341|MISDEMEANOR|          null|          null|    null|        45-64|         BLACK|      M| 40.77287456000005|-73.98954212299998|\n",
      "| 10| 585574881|       14.0|MANHATTAN|  12/24/2019|2019-12-24|    16:00:00|       COMPLETED|  109|     FELONY|          null|          null|    null|      UNKNOWN|       UNKNOWN|      D| 40.75043076800005|-73.98928217599996|\n",
      "| 11| 916172359|       25.0|MANHATTAN|  12/21/2019|2019-12-24|    20:00:00|       COMPLETED|  341|MISDEMEANOR|       UNKNOWN|       UNKNOWN|       U|        25-44|       UNKNOWN|      F| 40.80168405900002|-73.93895929199994|\n",
      "| 12| 946914583|      108.0|   QUEENS|  12/22/2019|2019-12-22|    04:15:00|       COMPLETED|  113|     FELONY|          null|          null|    null|      UNKNOWN|       UNKNOWN|      E|40.743124599000055|-73.95606807299998|\n",
      "| 13| 355952564|       46.0|     null|  12/21/2019|2019-12-21|    02:35:00|       COMPLETED|  101|     FELONY|         18-24|BLACK HISPANIC|       M|        18-24|WHITE HISPANIC|      M| 40.85858397000004|-73.90869606999998|\n",
      "| 14| 249276017|       42.0|    BRONX|  12/20/2019|2019-12-21|    14:00:00|       COMPLETED|  106|     FELONY|       UNKNOWN|       UNKNOWN|       U|          <18|BLACK HISPANIC|      M| 40.82227104100008|-73.91169777999993|\n",
      "| 15| 636997863|       52.0|    BRONX|  12/20/2019|2019-12-20|    22:18:00|       COMPLETED|  344|MISDEMEANOR|         25-44|         BLACK|       M|        18-24|         BLACK|      F| 40.86322306500005|-73.89041071099996|\n",
      "| 16| 183266811|       66.0| BROOKLYN|  12/20/2019|2019-12-20|    01:35:00|       COMPLETED|  107|     FELONY|          null|          null|    null|          65+|         WHITE|      F| 40.63254475200006|-73.98195137599998|\n",
      "| 17| 699043216|       50.0|    BRONX|  12/20/2019|2019-12-20|    00:07:00|       COMPLETED|  341|MISDEMEANOR|          null|          null|    null|        25-44|         WHITE|      F| 40.87465879000007|-73.91108943699999|\n",
      "| 18| 431547413|        7.0|MANHATTAN|  12/10/2019|2019-12-20|    20:06:00|       COMPLETED|  114|     FELONY|          null|          null|    null|      UNKNOWN|       UNKNOWN|      E| 40.71195209300004|-73.98985467599994|\n",
      "| 19| 800366831|       43.0|    BRONX|  12/19/2019|2019-12-19|    17:50:00|       COMPLETED|  341|MISDEMEANOR|         45-64|WHITE HISPANIC|       M|      UNKNOWN|       UNKNOWN|      D|40.823499964000064|-73.85861898699994|\n",
      "| 20| 354566222|       42.0|    BRONX|  12/19/2019|2019-12-19|    02:50:00|       COMPLETED|  104|     FELONY|         18-24|BLACK HISPANIC|       M|          <18|BLACK HISPANIC|      F| 40.82256991600008|-73.91130716899994|\n",
      "+---+----------+-----------+---------+------------+----------+------------+----------------+-----+-----------+--------------+--------------+--------+-------------+--------------+-------+------------------+------------------+\n",
      "only showing top 20 rows\n",
      "\n"
     ]
    }
   ],
   "source": [
    "df.show()"
   ]
  },
  {
   "cell_type": "code",
   "execution_count": 30,
   "metadata": {},
   "outputs": [
    {
     "data": {
      "text/plain": [
       "[('_c0', 'int'),\n",
       " ('CMPLNT_NUM', 'int'),\n",
       " ('ADDR_PCT_CD', 'double'),\n",
       " ('BORO_NM', 'string'),\n",
       " ('CMPLNT_FR_DT', 'string'),\n",
       " ('RPT_DT', 'string'),\n",
       " ('CMPLNT_FR_TM', 'string'),\n",
       " ('CRM_ATPT_CPTD_CD', 'string'),\n",
       " ('KY_CD', 'int'),\n",
       " ('LAW_CAT_CD', 'string'),\n",
       " ('SUSP_AGE_GROUP', 'string'),\n",
       " ('SUSP_RACE', 'string'),\n",
       " ('SUSP_SEX', 'string'),\n",
       " ('VIC_AGE_GROUP', 'string'),\n",
       " ('VIC_RACE', 'string'),\n",
       " ('VIC_SEX', 'string'),\n",
       " ('Latitude', 'double'),\n",
       " ('Longitude', 'double')]"
      ]
     },
     "execution_count": 30,
     "metadata": {},
     "output_type": "execute_result"
    }
   ],
   "source": [
    "df.dtypes"
   ]
  },
  {
   "cell_type": "code",
   "execution_count": 31,
   "metadata": {},
   "outputs": [
    {
     "name": "stdout",
     "output_type": "stream",
     "text": [
      "root\n",
      " |-- _c0: integer (nullable = true)\n",
      " |-- CMPLNT_NUM: integer (nullable = true)\n",
      " |-- ADDR_PCT_CD: double (nullable = true)\n",
      " |-- BORO_NM: string (nullable = true)\n",
      " |-- CMPLNT_FR_DT: string (nullable = true)\n",
      " |-- RPT_DT: string (nullable = true)\n",
      " |-- CMPLNT_FR_TM: string (nullable = true)\n",
      " |-- CRM_ATPT_CPTD_CD: string (nullable = true)\n",
      " |-- KY_CD: integer (nullable = true)\n",
      " |-- LAW_CAT_CD: string (nullable = true)\n",
      " |-- SUSP_AGE_GROUP: string (nullable = true)\n",
      " |-- SUSP_RACE: string (nullable = true)\n",
      " |-- SUSP_SEX: string (nullable = true)\n",
      " |-- VIC_AGE_GROUP: string (nullable = true)\n",
      " |-- VIC_RACE: string (nullable = true)\n",
      " |-- VIC_SEX: string (nullable = true)\n",
      " |-- Latitude: double (nullable = true)\n",
      " |-- Longitude: double (nullable = true)\n",
      "\n"
     ]
    }
   ],
   "source": [
    "df.printSchema()"
   ]
  },
  {
   "cell_type": "code",
   "execution_count": 32,
   "metadata": {},
   "outputs": [
    {
     "name": "stdout",
     "output_type": "stream",
     "text": [
      "+--------------+--------+\n",
      "|SUSP_AGE_GROUP|SUSP_SEX|\n",
      "+--------------+--------+\n",
      "|          null|    null|\n",
      "|          null|    null|\n",
      "|         25-44|       M|\n",
      "|         18-24|       M|\n",
      "|          null|    null|\n",
      "|          null|    null|\n",
      "|          null|    null|\n",
      "|         18-24|       F|\n",
      "|          null|    null|\n",
      "|          null|    null|\n",
      "+--------------+--------+\n",
      "only showing top 10 rows\n",
      "\n"
     ]
    }
   ],
   "source": [
    "df.select('SUSP_AGE_GROUP','SUSP_SEX').show(10)"
   ]
  },
  {
   "cell_type": "code",
   "execution_count": 37,
   "metadata": {},
   "outputs": [
    {
     "name": "stdout",
     "output_type": "stream",
     "text": [
      "+----------------+-------+\n",
      "|CRM_ATPT_CPTD_CD|  count|\n",
      "+----------------+-------+\n",
      "|       ATTEMPTED|  38157|\n",
      "|       COMPLETED|2247575|\n",
      "+----------------+-------+\n",
      "\n"
     ]
    }
   ],
   "source": [
    "df.groupBy(\"CRM_ATPT_CPTD_CD\").count().show()"
   ]
  },
  {
   "cell_type": "code",
   "execution_count": 38,
   "metadata": {},
   "outputs": [
    {
     "data": {
      "text/plain": [
       "DataFrame[summary: string, _c0: string, CMPLNT_NUM: string, ADDR_PCT_CD: string, BORO_NM: string, CMPLNT_FR_DT: string, RPT_DT: string, CMPLNT_FR_TM: string, CRM_ATPT_CPTD_CD: string, KY_CD: string, LAW_CAT_CD: string, SUSP_AGE_GROUP: string, SUSP_RACE: string, SUSP_SEX: string, VIC_AGE_GROUP: string, VIC_RACE: string, VIC_SEX: string, Latitude: string, Longitude: string]"
      ]
     },
     "execution_count": 38,
     "metadata": {},
     "output_type": "execute_result"
    }
   ],
   "source": [
    "df.describe()"
   ]
  },
  {
   "cell_type": "code",
   "execution_count": 39,
   "metadata": {},
   "outputs": [
    {
     "name": "stdout",
     "output_type": "stream",
     "text": [
      "+-------+------------------+-------------------+------------------+-------------+------------+----------+------------+----------------+------------------+----------+------------------+--------------------+--------+------------------+--------------------+-------+-------------------+-------------------+\n",
      "|summary|               _c0|         CMPLNT_NUM|       ADDR_PCT_CD|      BORO_NM|CMPLNT_FR_DT|    RPT_DT|CMPLNT_FR_TM|CRM_ATPT_CPTD_CD|             KY_CD|LAW_CAT_CD|    SUSP_AGE_GROUP|           SUSP_RACE|SUSP_SEX|     VIC_AGE_GROUP|            VIC_RACE|VIC_SEX|           Latitude|          Longitude|\n",
      "+-------+------------------+-------------------+------------------+-------------+------------+----------+------------+----------------+------------------+----------+------------------+--------------------+--------+------------------+--------------------+-------+-------------------+-------------------+\n",
      "|  count|           2285732|            2285732|           2285729|      2283987|     2285732|   2285732|     2285732|         2285732|           2285732|   2285732|           1704668|             1704668| 1704668|           2285727|             2285727|2285727|            2285619|            2285619|\n",
      "|   mean|2743737.0284871543|5.498965215837181E8| 63.00019512374389|         null|        null|      null|        null|            null|303.21846436940115|      null| 788.0652173913044|                null|    null|-84.78658536585365|                null|   null|  40.73648896390924| -73.92474098117047|\n",
      "| stddev|2563237.4023904814|2.598534919991935E8|34.533677264197216|         null|        null|      null|        null|            null|155.38288229984062|      null|1154.7323335470448|                null|    null| 782.0165121916647|                null|   null|0.08324077676039361|0.07685515138131883|\n",
      "|    min|                 0|          100000065|               1.0|        BRONX|  01/01/1955|2016-01-02|    00:00:00|       ATTEMPTED|               101|    FELONY|                -1|AMERICAN INDIAN/A...|       F|                -1|AMERICAN INDIAN/A...|      D|       40.498905363|      -74.254938736|\n",
      "|    max|           7375992|          999998911|             123.0|STATEN ISLAND|  12/31/2020|2020-12-31|    23:59:00|       COMPLETED|               881| VIOLATION|           UNKNOWN|      WHITE HISPANIC|       U|           UNKNOWN|      WHITE HISPANIC|      U|  40.91272339600005| -73.70056786399994|\n",
      "+-------+------------------+-------------------+------------------+-------------+------------+----------+------------+----------------+------------------+----------+------------------+--------------------+--------+------------------+--------------------+-------+-------------------+-------------------+\n",
      "\n"
     ]
    }
   ],
   "source": [
    "df.describe().show()"
   ]
  },
  {
   "cell_type": "code",
   "execution_count": 41,
   "metadata": {},
   "outputs": [
    {
     "data": {
      "text/plain": [
       "[Row(_c0=0, CMPLNT_NUM=394506329, ADDR_PCT_CD=32.0, BORO_NM='MANHATTAN', CMPLNT_FR_DT='12/31/2019', RPT_DT='2019-12-31', CMPLNT_FR_TM='17:30:00', CRM_ATPT_CPTD_CD='COMPLETED', KY_CD=118, LAW_CAT_CD='FELONY', SUSP_AGE_GROUP=None, SUSP_RACE=None, SUSP_SEX=None, VIC_AGE_GROUP='UNKNOWN', VIC_RACE='UNKNOWN', VIC_SEX='E', Latitude=40.82092679700002, Longitude=-73.94332421899996),\n",
       " Row(_c0=1, CMPLNT_NUM=968873685, ADDR_PCT_CD=47.0, BORO_NM='BRONX', CMPLNT_FR_DT='12/29/2019', RPT_DT='2019-12-29', CMPLNT_FR_TM='16:31:00', CRM_ATPT_CPTD_CD='COMPLETED', KY_CD=113, LAW_CAT_CD='FELONY', SUSP_AGE_GROUP=None, SUSP_RACE=None, SUSP_SEX=None, VIC_AGE_GROUP='UNKNOWN', VIC_RACE='UNKNOWN', VIC_SEX='E', Latitude=40.88570140600008, Longitude=-73.86164032499995)]"
      ]
     },
     "execution_count": 41,
     "metadata": {},
     "output_type": "execute_result"
    }
   ],
   "source": [
    "df.take(2)"
   ]
  },
  {
   "cell_type": "code",
   "execution_count": 43,
   "metadata": {},
   "outputs": [],
   "source": [
    "# Re-order and select columns\n",
    "df = df.select('CMPLNT_NUM',\n",
    " 'ADDR_PCT_CD',\n",
    " 'BORO_NM',\n",
    " 'CMPLNT_FR_DT',\n",
    " 'RPT_DT',\n",
    " 'CMPLNT_FR_TM',\n",
    " 'CRM_ATPT_CPTD_CD',\n",
    " 'KY_CD',\n",
    " 'LAW_CAT_CD',\n",
    " 'SUSP_AGE_GROUP',\n",
    " 'SUSP_RACE',\n",
    " 'SUSP_SEX',\n",
    " 'VIC_AGE_GROUP',\n",
    " 'VIC_RACE',\n",
    " 'VIC_SEX',\n",
    " 'Latitude',\n",
    " 'Longitude')"
   ]
  },
  {
   "cell_type": "code",
   "execution_count": 44,
   "metadata": {},
   "outputs": [
    {
     "data": {
      "text/plain": [
       "['CMPLNT_NUM',\n",
       " 'ADDR_PCT_CD',\n",
       " 'BORO_NM',\n",
       " 'CMPLNT_FR_DT',\n",
       " 'RPT_DT',\n",
       " 'CMPLNT_FR_TM',\n",
       " 'CRM_ATPT_CPTD_CD',\n",
       " 'KY_CD',\n",
       " 'LAW_CAT_CD',\n",
       " 'SUSP_AGE_GROUP',\n",
       " 'SUSP_RACE',\n",
       " 'SUSP_SEX',\n",
       " 'VIC_AGE_GROUP',\n",
       " 'VIC_RACE',\n",
       " 'VIC_SEX',\n",
       " 'Latitude',\n",
       " 'Longitude']"
      ]
     },
     "execution_count": 44,
     "metadata": {},
     "output_type": "execute_result"
    }
   ],
   "source": [
    "df.columns"
   ]
  },
  {
   "cell_type": "code",
   "execution_count": 80,
   "metadata": {},
   "outputs": [
    {
     "name": "stdout",
     "output_type": "stream",
     "text": [
      "+----------+----------------+\n",
      "|CMPLNT_NUM|CRM_ATPT_CPTD_CD|\n",
      "+----------+----------------+\n",
      "| 394506329|       COMPLETED|\n",
      "| 968873685|       COMPLETED|\n",
      "| 509837549|       COMPLETED|\n",
      "| 352454313|       COMPLETED|\n",
      "| 293718737|       ATTEMPTED|\n",
      "| 552685226|       COMPLETED|\n",
      "| 134037758|       COMPLETED|\n",
      "| 855385879|       COMPLETED|\n",
      "| 241602326|       COMPLETED|\n",
      "| 585574881|       COMPLETED|\n",
      "+----------+----------------+\n",
      "only showing top 10 rows\n",
      "\n"
     ]
    }
   ],
   "source": [
    "df1.show(10)"
   ]
  },
  {
   "cell_type": "code",
   "execution_count": 82,
   "metadata": {},
   "outputs": [],
   "source": [
    "import pandas as pd\n",
    "df=pd.read_csv(\"crime_data_filtered.csv\")"
   ]
  },
  {
   "cell_type": "code",
   "execution_count": 95,
   "metadata": {},
   "outputs": [
    {
     "name": "stdout",
     "output_type": "stream",
     "text": [
      "<class 'pandas.core.frame.DataFrame'>\n",
      "RangeIndex: 2285732 entries, 0 to 2285731\n",
      "Data columns (total 18 columns):\n",
      " #   Column            Dtype  \n",
      "---  ------            -----  \n",
      " 0   Unnamed: 0        int64  \n",
      " 1   CMPLNT_NUM        int64  \n",
      " 2   ADDR_PCT_CD       float64\n",
      " 3   BORO_NM           object \n",
      " 4   CMPLNT_FR_DT      object \n",
      " 5   RPT_DT            object \n",
      " 6   CMPLNT_FR_TM      object \n",
      " 7   CRM_ATPT_CPTD_CD  object \n",
      " 8   KY_CD             int64  \n",
      " 9   LAW_CAT_CD        object \n",
      " 10  SUSP_AGE_GROUP    object \n",
      " 11  SUSP_RACE         object \n",
      " 12  SUSP_SEX          object \n",
      " 13  VIC_AGE_GROUP     object \n",
      " 14  VIC_RACE          object \n",
      " 15  VIC_SEX           object \n",
      " 16  Latitude          float64\n",
      " 17  Longitude         float64\n",
      "dtypes: float64(3), int64(3), object(12)\n",
      "memory usage: 313.9+ MB\n"
     ]
    }
   ],
   "source": [
    "df.info()"
   ]
  },
  {
   "cell_type": "code",
   "execution_count": 96,
   "metadata": {},
   "outputs": [],
   "source": [
    "\n",
    "df.loc[df['CRM_ATPT_CPTD_CD'] == 'COMPLETED'] = 1\n",
    "df.loc[df['CRM_ATPT_CPTD_CD'] == 'ATTEMPTED'] = 0"
   ]
  },
  {
   "cell_type": "code",
   "execution_count": 97,
   "metadata": {},
   "outputs": [],
   "source": [
    "df=df.astype({'CRM_ATPT_CPTD_CD':int})"
   ]
  },
  {
   "cell_type": "code",
   "execution_count": 98,
   "metadata": {},
   "outputs": [
    {
     "name": "stdout",
     "output_type": "stream",
     "text": [
      "<class 'pandas.core.frame.DataFrame'>\n",
      "RangeIndex: 2285732 entries, 0 to 2285731\n",
      "Data columns (total 18 columns):\n",
      " #   Column            Dtype  \n",
      "---  ------            -----  \n",
      " 0   Unnamed: 0        int64  \n",
      " 1   CMPLNT_NUM        int64  \n",
      " 2   ADDR_PCT_CD       float64\n",
      " 3   BORO_NM           object \n",
      " 4   CMPLNT_FR_DT      object \n",
      " 5   RPT_DT            object \n",
      " 6   CMPLNT_FR_TM      object \n",
      " 7   CRM_ATPT_CPTD_CD  int32  \n",
      " 8   KY_CD             int64  \n",
      " 9   LAW_CAT_CD        object \n",
      " 10  SUSP_AGE_GROUP    object \n",
      " 11  SUSP_RACE         object \n",
      " 12  SUSP_SEX          object \n",
      " 13  VIC_AGE_GROUP     object \n",
      " 14  VIC_RACE          object \n",
      " 15  VIC_SEX           object \n",
      " 16  Latitude          float64\n",
      " 17  Longitude         float64\n",
      "dtypes: float64(3), int32(1), int64(3), object(11)\n",
      "memory usage: 305.2+ MB\n"
     ]
    }
   ],
   "source": [
    "df.info()"
   ]
  },
  {
   "cell_type": "code",
   "execution_count": 103,
   "metadata": {},
   "outputs": [],
   "source": [
    "X=df.drop(['CRM_ATPT_CPTD_CD','BORO_NM','CMPLNT_FR_DT','RPT_DT','CMPLNT_FR_TM','LAW_CAT_CD','SUSP_AGE_GROUP','SUSP_RACE', 'SUSP_SEX','VIC_AGE_GROUP','VIC_RACE','VIC_SEX'],axis=1)"
   ]
  },
  {
   "cell_type": "code",
   "execution_count": 104,
   "metadata": {},
   "outputs": [],
   "source": [
    "y=df['CRM_ATPT_CPTD_CD']"
   ]
  },
  {
   "cell_type": "code",
   "execution_count": 105,
   "metadata": {},
   "outputs": [],
   "source": [
    "from sklearn.model_selection import train_test_split"
   ]
  },
  {
   "cell_type": "code",
   "execution_count": 106,
   "metadata": {},
   "outputs": [],
   "source": [
    "X_train,X_test,y_train,y_test=train_test_split(X, y, test_size=0.20, random_state=30)"
   ]
  },
  {
   "cell_type": "code",
   "execution_count": 107,
   "metadata": {},
   "outputs": [],
   "source": [
    "from sklearn.linear_model import LinearRegression"
   ]
  },
  {
   "cell_type": "code",
   "execution_count": 108,
   "metadata": {},
   "outputs": [],
   "source": [
    "model=LinearRegression()    #initialising my model"
   ]
  },
  {
   "cell_type": "code",
   "execution_count": 109,
   "metadata": {},
   "outputs": [
    {
     "data": {
      "text/plain": [
       "LinearRegression()"
      ]
     },
     "execution_count": 109,
     "metadata": {},
     "output_type": "execute_result"
    }
   ],
   "source": [
    "model.fit(X_train,y_train)"
   ]
  },
  {
   "cell_type": "code",
   "execution_count": 110,
   "metadata": {},
   "outputs": [],
   "source": [
    "pred = model.predict(X_test)"
   ]
  },
  {
   "cell_type": "code",
   "execution_count": 111,
   "metadata": {},
   "outputs": [
    {
     "data": {
      "text/plain": [
       "array([1., 1., 1., ..., 1., 1., 1.])"
      ]
     },
     "execution_count": 111,
     "metadata": {},
     "output_type": "execute_result"
    }
   ],
   "source": [
    "pred"
   ]
  },
  {
   "cell_type": "code",
   "execution_count": 112,
   "metadata": {},
   "outputs": [
    {
     "data": {
      "text/plain": [
       "1.0"
      ]
     },
     "execution_count": 112,
     "metadata": {},
     "output_type": "execute_result"
    }
   ],
   "source": [
    "model.score(X_train,y_train)"
   ]
  },
  {
   "cell_type": "code",
   "execution_count": 113,
   "metadata": {},
   "outputs": [
    {
     "data": {
      "text/plain": [
       "1.0"
      ]
     },
     "execution_count": 113,
     "metadata": {},
     "output_type": "execute_result"
    }
   ],
   "source": [
    "model.score(X_test,y_test)"
   ]
  },
  {
   "cell_type": "code",
   "execution_count": 114,
   "metadata": {},
   "outputs": [
    {
     "data": {
      "text/plain": [
       "3.192703484736402e-27"
      ]
     },
     "execution_count": 114,
     "metadata": {},
     "output_type": "execute_result"
    }
   ],
   "source": [
    "from sklearn.metrics import mean_squared_error\n",
    "mean_squared_error(y_test,pred)"
   ]
  },
  {
   "cell_type": "code",
   "execution_count": null,
   "metadata": {},
   "outputs": [],
   "source": []
  }
 ],
 "metadata": {
  "kernelspec": {
   "display_name": "Python 3",
   "language": "python",
   "name": "python3"
  },
  "language_info": {
   "codemirror_mode": {
    "name": "ipython",
    "version": 3
   },
   "file_extension": ".py",
   "mimetype": "text/x-python",
   "name": "python",
   "nbconvert_exporter": "python",
   "pygments_lexer": "ipython3",
   "version": "3.8.3"
  }
 },
 "nbformat": 4,
 "nbformat_minor": 4
}
